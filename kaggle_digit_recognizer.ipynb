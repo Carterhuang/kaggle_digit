{
 "cells": [
  {
   "cell_type": "code",
   "execution_count": 1,
   "metadata": {
    "collapsed": true
   },
   "outputs": [],
   "source": [
    "import csv\n",
    "import numpy as np\n",
    "\n",
    "images, labels = [], []\n",
    "\n",
    "with open('train.csv') as train_file:\n",
    "    # Skip first line.\n",
    "    train_file.readline()\n",
    "    \n",
    "    csv_train_file = csv.reader(train_file, delimiter=',')\n",
    "    for row in csv_train_file:\n",
    "        labels.append(row[0])\n",
    "        images.append(np.array(row[1:], dtype=float))"
   ]
  },
  {
   "cell_type": "code",
   "execution_count": 2,
   "metadata": {
    "scrolled": true
   },
   "outputs": [
    {
     "name": "stdout",
     "output_type": "stream",
     "text": [
      "Printing sample with label 8.\n"
     ]
    },
    {
     "data": {
      "image/png": "[encoded data removed]",
      "text/plain": [
       "<matplotlib.figure.Figure at 0x7f2b68839588>"
      ]
     },
     "metadata": {},
     "output_type": "display_data"
    }
   ],
   "source": [
    "sample_index = 20\n",
    "\n",
    "import matplotlib\n",
    "from matplotlib import pyplot as plt\n",
    "\n",
    "sample, label = images[sample_index], labels[sample_index]\n",
    "plt.imshow(np.reshape(sample, (28, 28)), norm=matplotlib.colors.NoNorm())\n",
    "\n",
    "print(\"Printing sample with label %s.\" % (label))\n",
    "plt.show()"
   ]
  },
  {
   "cell_type": "code",
   "execution_count": 3,
   "metadata": {
    "scrolled": true
   },
   "outputs": [
    {
     "name": "stdout",
     "output_type": "stream",
     "text": [
      "Printing sample with normalzied pixels.\n"
     ]
    },
    {
     "data": {
      "image/png": "[encoded data removed]",
      "text/plain": [
       "<matplotlib.figure.Figure at 0x7f2b68839be0>"
      ]
     },
     "metadata": {},
     "output_type": "display_data"
    }
   ],
   "source": [
    "# Normalizing a sample to scale of (0, 1)\n",
    "\n",
    "PIXEL_SCALE = 255\n",
    "\n",
    "normalized_sample = sample / PIXEL_SCALE\n",
    "plt.imshow(np.reshape(normalized_sample, (28, 28)), norm=matplotlib.colors.NoNorm())\n",
    "print(\"Printing sample with normalzied pixels.\")\n",
    "plt.show()"
   ]
  },
  {
   "cell_type": "code",
   "execution_count": 4,
   "metadata": {
    "collapsed": true
   },
   "outputs": [],
   "source": [
    "normalized_images = [image / PIXEL_SCALE for image in images]"
   ]
  },
  {
   "cell_type": "code",
   "execution_count": 5,
   "metadata": {
    "collapsed": true
   },
   "outputs": [],
   "source": [
    "# One hot encoding labels.\n",
    "def one_hot_label(label):\n",
    "    one_hot_coded = np.zeros(10)\n",
    "    one_hot_coded[int(label)] = 1\n",
    "    return one_hot_coded"
   ]
  },
  {
   "cell_type": "code",
   "execution_count": 6,
   "metadata": {
    "collapsed": true
   },
   "outputs": [],
   "source": [
    "one_hot_labels = list(map(one_hot_label, labels))"
   ]
  },
  {
   "cell_type": "code",
   "execution_count": 7,
   "metadata": {
    "collapsed": true
   },
   "outputs": [],
   "source": [
    "def conv_net_input(input_shape):\n",
    "    tensor_shape = [None] + list(input_shape)\n",
    "    return tf.placeholder(tf.float32, shape=tensor_shape, name='conv_input')\n",
    "\n",
    "def conv_net_label(label_shape):\n",
    "    label_shape = [None] + list(label_shape)\n",
    "    return tf.placeholder(tf.float32, shape=label_shape, name='conv_label')\n",
    "\n",
    "def conv_net_keep_prob():\n",
    "    return tf.placeholder(tf.float32, name='keep_prob')"
   ]
  },
  {
   "cell_type": "code",
   "execution_count": 8,
   "metadata": {
    "collapsed": true
   },
   "outputs": [],
   "source": [
    "def conv2d(input_tensor, output_dim, k_size, padding='valid'):\n",
    "    \"\"\"\n",
    "    :param input_tensor: input tensor, should be reshaped to 2D\n",
    "    :param output_dim: output dimension, e.g. 32, 64, etc.\n",
    "    :param kernel_size: kernel size, 3, 5, etc.\n",
    "    \"\"\"\n",
    "    kernel_size = (k_size, k_size)\n",
    "    \n",
    "    kernel_initializer = tf.Variable((kernel_size, kernel_size), mean=0, stddev=0.1, dtype=tf.float32)\n",
    "    conv_layer = tf.layers.conv2d(input_tensor,\n",
    "                                  output_dim,\n",
    "                                  kernel_size,\n",
    "                                  padding,\n",
    "                                  kernel_initializer=kernel_initializer,\n",
    "                                  activation=tf.nn.relu)\n",
    "    # use_bias=True, bias_initializer=tf.zeros_initializer()\n",
    "    \n",
    "    return tf.nn.relu(conv_layer)"
   ]
  },
  {
   "cell_type": "code",
   "execution_count": 9,
   "metadata": {
    "collapsed": true
   },
   "outputs": [],
   "source": [
    "def max_pool(input_tensor, pool_ksize, pool_strides, padding='valid'):\n",
    "    return tf.layers.max_pooling2d(\n",
    "        input_tensor,\n",
    "        pool_ksize,\n",
    "        pool_strides,\n",
    "        padding\n",
    "    )"
   ]
  },
  {
   "cell_type": "code",
   "execution_count": 12,
   "metadata": {
    "collapsed": true
   },
   "outputs": [],
   "source": [
    "def fully_connected(input_tensor, output_dim):\n",
    "    return tf.layers.fully_connected(\n",
    "        input_tensor,\n",
    "        output_dim\n",
    "    )"
   ]
  },
  {
   "cell_type": "code",
   "execution_count": null,
   "metadata": {
    "collapsed": true
   },
   "outputs": [],
   "source": []
  }
 ],
 "metadata": {
  "kernelspec": {
   "display_name": "Python 3",
   "language": "python",
   "name": "python3"
  },
  "language_info": {
   "codemirror_mode": {
    "name": "ipython",
    "version": 3
   },
   "file_extension": ".py",
   "mimetype": "text/x-python",
   "name": "python",
   "nbconvert_exporter": "python",
   "pygments_lexer": "ipython3",
   "version": "3.5.3"
  }
 },
 "nbformat": 4,
 "nbformat_minor": 2
}
